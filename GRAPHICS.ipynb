{
  "nbformat": 4,
  "nbformat_minor": 0,
  "metadata": {
    "colab": {
      "provenance": [],
      "authorship_tag": "ABX9TyMs/ONzK3IcrQkS2mq8mOHb",
      "include_colab_link": true
    },
    "kernelspec": {
      "name": "python3",
      "display_name": "Python 3"
    },
    "language_info": {
      "name": "python"
    }
  },
  "cells": [
    {
      "cell_type": "markdown",
      "metadata": {
        "id": "view-in-github",
        "colab_type": "text"
      },
      "source": [
        "<a href=\"https://colab.research.google.com/github/Aryann15/Graphics-assignments/blob/main/GRAPHICS.ipynb\" target=\"_parent\"><img src=\"https://colab.research.google.com/assets/colab-badge.svg\" alt=\"Open In Colab\"/></a>"
      ]
    },
    {
      "cell_type": "markdown",
      "source": [
        "DDA LINE DRAWING ALGORITHM"
      ],
      "metadata": {
        "id": "O0zSPzD5__x3"
      }
    },
    {
      "cell_type": "code",
      "execution_count": null,
      "metadata": {
        "colab": {
          "base_uri": "https://localhost:8080/",
          "height": 819
        },
        "id": "h_c24uPXtDpu",
        "outputId": "019b54a2-9da0-4d37-a5f9-12a4adbb5df0"
      },
      "outputs": [
        {
          "output_type": "stream",
          "name": "stdout",
          "text": [
            "Enter the value of x1: \n",
            "-2\n",
            "Enter the value of x2: \n",
            "9\n",
            "Enter the value of y1: \n",
            "-3\n",
            "Enter the value of y2: \n",
            "8\n",
            "X1:  -1.0 Y1:  -2.0\n",
            "X1:  0.0 Y1:  -1.0\n",
            "X1:  1.0 Y1:  0.0\n",
            "X1:  2.0 Y1:  1.0\n",
            "X1:  3.0 Y1:  2.0\n",
            "X1:  4.0 Y1:  3.0\n",
            "X1:  5.0 Y1:  4.0\n",
            "X1:  6.0 Y1:  5.0\n",
            "X1:  7.0 Y1:  6.0\n",
            "X1:  8.0 Y1:  7.0\n",
            "X1:  9.0 Y1:  8.0\n"
          ]
        },
        {
          "output_type": "display_data",
          "data": {
            "text/plain": [
              "<Figure size 640x480 with 1 Axes>"
            ],
            "image/png": "[encoded data removed]"
          },
          "metadata": {}
        }
      ],
      "source": [
        "import matplotlib.pyplot as plt\n",
        "\n",
        "print(\"Enter the value of x1: \")\n",
        "x1 = int(input())\n",
        "print(\"Enter the value of x2: \")\n",
        "x2 = int(input())\n",
        "print(\"Enter the value of y1: \")\n",
        "y1 = int(input())\n",
        "print(\"Enter the value of y2: \")\n",
        "y2 = int(input())\n",
        "\n",
        "dx = x2 - x1\n",
        "dy = y2 - y1\n",
        "\n",
        "if %(dx) > %(dy):\n",
        "    change = %(dx)\n",
        "else:%\n",
        "    change = (dy)\n",
        "\n",
        "xincrement = dx / change\n",
        "yincrement = dy / change\n",
        "\n",
        "i = 0\n",
        "\n",
        "xcoordinates = []\n",
        "ycoordinates = []\n",
        "\n",
        "while i < change:\n",
        "    i += 1\n",
        "    x1 = x1 + xincrement\n",
        "    y1 = y1 + yincrement\n",
        "    print(\"X1: \", x1, \"Y1: \", y1)\n",
        "    xcoordinates.append(x1)\n",
        "    ycoordinates.append(y1)\n",
        "\n",
        "plt.scatter(xcoordinates, ycoordinates, marker='o', s=30, c='b')  # Scatter plot with dots\n",
        "\n",
        "# Naming the Axis\n",
        "plt.xlabel(\"X-Axis\")\n",
        "plt.ylabel(\"Y-Axis\")\n",
        "\n",
        "# Graph title\n",
        "plt.title(\"DDA Algorithm\")\n",
        "\n",
        "# Show the plot\n",
        "plt.grid(True)\n",
        "plt.show()\n",
        "\n"
      ]
    }
  ]
}